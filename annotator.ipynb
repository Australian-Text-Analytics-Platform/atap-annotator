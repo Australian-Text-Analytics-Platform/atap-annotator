{
 "cells": [
  {
   "cell_type": "code",
   "execution_count": null,
   "id": "initial_id",
   "metadata": {
    "collapsed": false
   },
   "outputs": [],
   "source": [
    "from atap_annotator import CorpusAnnotator\n",
    "from atap_corpus_loader import CorpusLoader\n",
    "\n",
    "loader = CorpusLoader(root_directory='corpus_data', include_meta_loader=True, run_logger=True)\n",
    "corpus_annotator: CorpusAnnotator = CorpusAnnotator(corpus_loader=loader, run_logger=True)\n",
    "corpus_annotator"
   ]
  }
 ],
 "metadata": {
  "kernelspec": {
   "display_name": "Python 3",
   "language": "python",
   "name": "python3"
  },
  "language_info": {
   "codemirror_mode": {
    "name": "ipython",
    "version": 2
   },
   "file_extension": ".py",
   "mimetype": "text/x-python",
   "name": "python",
   "nbconvert_exporter": "python",
   "pygments_lexer": "ipython2",
   "version": "2.7.6"
  }
 },
 "nbformat": 4,
 "nbformat_minor": 5
}
